{
 "cells": [
  {
   "cell_type": "code",
   "execution_count": 1,
   "id": "bd6cc445",
   "metadata": {},
   "outputs": [],
   "source": [
    "from sklearn.datasets import load_iris\n",
    "from sklearn.neighbors import KNeighborsClassifier\n",
    "from sklearn.model_selection import train_test_split\n",
    "import numpy as np"
   ]
  },
  {
   "cell_type": "code",
   "execution_count": 2,
   "id": "c4bb0f88",
   "metadata": {},
   "outputs": [],
   "source": [
    "dataset=load_iris()\n",
    "X_train,X_test,y_train,y_test=train_test_split(dataset[\"data\"],dataset[\"target\"],random_state=0)"
   ]
  },
  {
   "cell_type": "code",
   "execution_count": 3,
   "id": "dd199f54",
   "metadata": {},
   "outputs": [
    {
     "data": {
      "text/html": [
       "<style>#sk-container-id-1 {color: black;}#sk-container-id-1 pre{padding: 0;}#sk-container-id-1 div.sk-toggleable {background-color: white;}#sk-container-id-1 label.sk-toggleable__label {cursor: pointer;display: block;width: 100%;margin-bottom: 0;padding: 0.3em;box-sizing: border-box;text-align: center;}#sk-container-id-1 label.sk-toggleable__label-arrow:before {content: \"▸\";float: left;margin-right: 0.25em;color: #696969;}#sk-container-id-1 label.sk-toggleable__label-arrow:hover:before {color: black;}#sk-container-id-1 div.sk-estimator:hover label.sk-toggleable__label-arrow:before {color: black;}#sk-container-id-1 div.sk-toggleable__content {max-height: 0;max-width: 0;overflow: hidden;text-align: left;background-color: #f0f8ff;}#sk-container-id-1 div.sk-toggleable__content pre {margin: 0.2em;color: black;border-radius: 0.25em;background-color: #f0f8ff;}#sk-container-id-1 input.sk-toggleable__control:checked~div.sk-toggleable__content {max-height: 200px;max-width: 100%;overflow: auto;}#sk-container-id-1 input.sk-toggleable__control:checked~label.sk-toggleable__label-arrow:before {content: \"▾\";}#sk-container-id-1 div.sk-estimator input.sk-toggleable__control:checked~label.sk-toggleable__label {background-color: #d4ebff;}#sk-container-id-1 div.sk-label input.sk-toggleable__control:checked~label.sk-toggleable__label {background-color: #d4ebff;}#sk-container-id-1 input.sk-hidden--visually {border: 0;clip: rect(1px 1px 1px 1px);clip: rect(1px, 1px, 1px, 1px);height: 1px;margin: -1px;overflow: hidden;padding: 0;position: absolute;width: 1px;}#sk-container-id-1 div.sk-estimator {font-family: monospace;background-color: #f0f8ff;border: 1px dotted black;border-radius: 0.25em;box-sizing: border-box;margin-bottom: 0.5em;}#sk-container-id-1 div.sk-estimator:hover {background-color: #d4ebff;}#sk-container-id-1 div.sk-parallel-item::after {content: \"\";width: 100%;border-bottom: 1px solid gray;flex-grow: 1;}#sk-container-id-1 div.sk-label:hover label.sk-toggleable__label {background-color: #d4ebff;}#sk-container-id-1 div.sk-serial::before {content: \"\";position: absolute;border-left: 1px solid gray;box-sizing: border-box;top: 0;bottom: 0;left: 50%;z-index: 0;}#sk-container-id-1 div.sk-serial {display: flex;flex-direction: column;align-items: center;background-color: white;padding-right: 0.2em;padding-left: 0.2em;position: relative;}#sk-container-id-1 div.sk-item {position: relative;z-index: 1;}#sk-container-id-1 div.sk-parallel {display: flex;align-items: stretch;justify-content: center;background-color: white;position: relative;}#sk-container-id-1 div.sk-item::before, #sk-container-id-1 div.sk-parallel-item::before {content: \"\";position: absolute;border-left: 1px solid gray;box-sizing: border-box;top: 0;bottom: 0;left: 50%;z-index: -1;}#sk-container-id-1 div.sk-parallel-item {display: flex;flex-direction: column;z-index: 1;position: relative;background-color: white;}#sk-container-id-1 div.sk-parallel-item:first-child::after {align-self: flex-end;width: 50%;}#sk-container-id-1 div.sk-parallel-item:last-child::after {align-self: flex-start;width: 50%;}#sk-container-id-1 div.sk-parallel-item:only-child::after {width: 0;}#sk-container-id-1 div.sk-dashed-wrapped {border: 1px dashed gray;margin: 0 0.4em 0.5em 0.4em;box-sizing: border-box;padding-bottom: 0.4em;background-color: white;}#sk-container-id-1 div.sk-label label {font-family: monospace;font-weight: bold;display: inline-block;line-height: 1.2em;}#sk-container-id-1 div.sk-label-container {text-align: center;}#sk-container-id-1 div.sk-container {/* jupyter's `normalize.less` sets `[hidden] { display: none; }` but bootstrap.min.css set `[hidden] { display: none !important; }` so we also need the `!important` here to be able to override the default hidden behavior on the sphinx rendered scikit-learn.org. See: https://github.com/scikit-learn/scikit-learn/issues/21755 */display: inline-block !important;position: relative;}#sk-container-id-1 div.sk-text-repr-fallback {display: none;}</style><div id=\"sk-container-id-1\" class=\"sk-top-container\"><div class=\"sk-text-repr-fallback\"><pre>KNeighborsClassifier(n_neighbors=1)</pre><b>In a Jupyter environment, please rerun this cell to show the HTML representation or trust the notebook. <br />On GitHub, the HTML representation is unable to render, please try loading this page with nbviewer.org.</b></div><div class=\"sk-container\" hidden><div class=\"sk-item\"><div class=\"sk-estimator sk-toggleable\"><input class=\"sk-toggleable__control sk-hidden--visually\" id=\"sk-estimator-id-1\" type=\"checkbox\" checked><label for=\"sk-estimator-id-1\" class=\"sk-toggleable__label sk-toggleable__label-arrow\">KNeighborsClassifier</label><div class=\"sk-toggleable__content\"><pre>KNeighborsClassifier(n_neighbors=1)</pre></div></div></div></div></div>"
      ],
      "text/plain": [
       "KNeighborsClassifier(n_neighbors=1)"
      ]
     },
     "execution_count": 3,
     "metadata": {},
     "output_type": "execute_result"
    }
   ],
   "source": [
    "kn=KNeighborsClassifier(n_neighbors=1)\n",
    "kn.fit(X_train,y_train)"
   ]
  },
  {
   "cell_type": "code",
   "execution_count": 4,
   "id": "964fd291",
   "metadata": {},
   "outputs": [
    {
     "name": "stdout",
     "output_type": "stream",
     "text": [
      "\n",
      "---------------------------------------------------------------------------------------------------------------------------\n",
      "Index                     Actual Label                             Predicted Label                          Correct/Wrong            \n",
      "---------------------------------------------------------------------------------------------------------------------------\n",
      "0                         2 (virginica)                            2 (virginica)                           Correct                  \n",
      "1                         1 (versicolor)                           1 (versicolor)                          Correct                  \n",
      "2                         0 (setosa)                               0 (setosa)                              Correct                  \n",
      "3                         2 (virginica)                            2 (virginica)                           Correct                  \n",
      "4                         0 (setosa)                               0 (setosa)                              Correct                  \n",
      "5                         2 (virginica)                            2 (virginica)                           Correct                  \n",
      "6                         0 (setosa)                               0 (setosa)                              Correct                  \n",
      "7                         1 (versicolor)                           1 (versicolor)                          Correct                  \n",
      "8                         1 (versicolor)                           1 (versicolor)                          Correct                  \n",
      "9                         1 (versicolor)                           1 (versicolor)                          Correct                  \n",
      "10                        2 (virginica)                            2 (virginica)                           Correct                  \n",
      "11                        1 (versicolor)                           1 (versicolor)                          Correct                  \n",
      "12                        1 (versicolor)                           1 (versicolor)                          Correct                  \n",
      "13                        1 (versicolor)                           1 (versicolor)                          Correct                  \n",
      "14                        1 (versicolor)                           1 (versicolor)                          Correct                  \n",
      "15                        0 (setosa)                               0 (setosa)                              Correct                  \n",
      "16                        1 (versicolor)                           1 (versicolor)                          Correct                  \n",
      "17                        1 (versicolor)                           1 (versicolor)                          Correct                  \n",
      "18                        0 (setosa)                               0 (setosa)                              Correct                  \n",
      "19                        0 (setosa)                               0 (setosa)                              Correct                  \n",
      "20                        2 (virginica)                            2 (virginica)                           Correct                  \n",
      "21                        1 (versicolor)                           1 (versicolor)                          Correct                  \n",
      "22                        0 (setosa)                               0 (setosa)                              Correct                  \n",
      "23                        0 (setosa)                               0 (setosa)                              Correct                  \n",
      "24                        2 (virginica)                            2 (virginica)                           Correct                  \n",
      "25                        0 (setosa)                               0 (setosa)                              Correct                  \n",
      "26                        0 (setosa)                               0 (setosa)                              Correct                  \n",
      "27                        1 (versicolor)                           1 (versicolor)                          Correct                  \n",
      "28                        1 (versicolor)                           1 (versicolor)                          Correct                  \n",
      "29                        0 (setosa)                               0 (setosa)                              Correct                  \n",
      "30                        2 (virginica)                            2 (virginica)                           Correct                  \n",
      "31                        1 (versicolor)                           1 (versicolor)                          Correct                  \n",
      "32                        0 (setosa)                               0 (setosa)                              Correct                  \n",
      "33                        2 (virginica)                            2 (virginica)                           Correct                  \n",
      "34                        2 (virginica)                            2 (virginica)                           Correct                  \n",
      "35                        1 (versicolor)                           1 (versicolor)                          Correct                  \n",
      "36                        0 (setosa)                               0 (setosa)                              Correct                  \n",
      "37                        1 (versicolor)                           2 (virginica)                           Wrong                    \n",
      "\n",
      "TEST SCORE [ACCURACY]: 0.97\n",
      "\n"
     ]
    }
   ],
   "source": [
    "# Prediction and Evaluation\n",
    "i = 0\n",
    "print(\"\\n---------------------------------------------------------------------------------------------------------------------------\")\n",
    "print('%-25s %-40s %-40s %-25s' % ('Index', 'Actual Label', 'Predicted Label', 'Correct/Wrong'))\n",
    "print(\"---------------------------------------------------------------------------------------------------------------------------\")\n",
    "\n",
    "for i in range(len(X_test)):\n",
    "    x = X_test[i]\n",
    "    x_new = np.array([x])\n",
    "    prediction = kn.predict(x_new)\n",
    "\n",
    "    actual_label = f'{y_test[i]} ({dataset[\"target_names\"][y_test[i]]})'\n",
    "    predicted_label = f'{prediction[0]} ({dataset[\"target_names\"][prediction[0]]})'\n",
    "\n",
    "    print('%-25s %-40s %-40s' % (i, actual_label, predicted_label), end=\"\")\n",
    "    \n",
    "    if y_test[i] == prediction[0]:\n",
    "        print('%-25s' % ('Correct'))\n",
    "    else:\n",
    "        print('%-25s' % ('Wrong'))\n",
    "\n",
    "# Test Score (Accuracy)\n",
    "print(\"\\nTEST SCORE [ACCURACY]: {:.2f}\\n\".format(kn.score(X_test, y_test)))"
   ]
  },
  {
   "cell_type": "code",
   "execution_count": null,
   "id": "47546994",
   "metadata": {},
   "outputs": [],
   "source": []
  }
 ],
 "metadata": {
  "kernelspec": {
   "display_name": "Python 3 (ipykernel)",
   "language": "python",
   "name": "python3"
  },
  "language_info": {
   "codemirror_mode": {
    "name": "ipython",
    "version": 3
   },
   "file_extension": ".py",
   "mimetype": "text/x-python",
   "name": "python",
   "nbconvert_exporter": "python",
   "pygments_lexer": "ipython3",
   "version": "3.11.4"
  }
 },
 "nbformat": 4,
 "nbformat_minor": 5
}
