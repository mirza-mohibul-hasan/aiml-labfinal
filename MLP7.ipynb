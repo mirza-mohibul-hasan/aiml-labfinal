{
 "cells": [
  {
   "cell_type": "code",
   "execution_count": 1,
   "id": "aa9df7b7",
   "metadata": {},
   "outputs": [],
   "source": [
    "import torch"
   ]
  },
  {
   "cell_type": "code",
   "execution_count": 2,
   "id": "053b9aa1",
   "metadata": {},
   "outputs": [
    {
     "name": "stdout",
     "output_type": "stream",
     "text": [
      "CUDA is available! Using GPU.\n"
     ]
    }
   ],
   "source": [
    "# Check if CUDA (GPU support) is available\n",
    "if torch.cuda.is_available():\n",
    "    # Create a CUDA device object representing the GPU\n",
    "    device = torch.device(\"cuda\")\n",
    "    print(\"CUDA is available! Using GPU.\")\n",
    "else:\n",
    "    # If CUDA is not available, use CPU\n",
    "    device = torch.device(\"cpu\")\n",
    "    print(\"CUDA is not available! Using CPU.\")"
   ]
  },
  {
   "cell_type": "code",
   "execution_count": 3,
   "id": "ddc48c19",
   "metadata": {},
   "outputs": [],
   "source": [
    "# Create a tensor on CPU\n",
    "cpu_tensor = torch.rand(3, 3)"
   ]
  },
  {
   "cell_type": "code",
   "execution_count": 4,
   "id": "365719b5",
   "metadata": {},
   "outputs": [],
   "source": [
    "# Move the tensor from CPU to GPU\n",
    "gpu_tensor = cpu_tensor.to(device)"
   ]
  },
  {
   "cell_type": "code",
   "execution_count": 5,
   "id": "703d5d85",
   "metadata": {},
   "outputs": [],
   "source": [
    "# Perform operations on GPU tensor\n",
    "gpu_result = torch.sin(gpu_tensor)"
   ]
  },
  {
   "cell_type": "code",
   "execution_count": 6,
   "id": "5e7647c8",
   "metadata": {},
   "outputs": [],
   "source": [
    "# Move tensor back to CPU if needed\n",
    "cpu_result = gpu_result.to(\"cpu\")"
   ]
  },
  {
   "cell_type": "code",
   "execution_count": 7,
   "id": "21a98a5f",
   "metadata": {},
   "outputs": [
    {
     "name": "stdout",
     "output_type": "stream",
     "text": [
      "Result on GPU:\n",
      "tensor([[0.2452, 0.8195, 0.7004],\n",
      "        [0.7162, 0.7555, 0.4399],\n",
      "        [0.8359, 0.3540, 0.0136]], device='cuda:0')\n",
      "\n",
      "Result on CPU:\n",
      "tensor([[0.2452, 0.8195, 0.7004],\n",
      "        [0.7162, 0.7555, 0.4399],\n",
      "        [0.8359, 0.3540, 0.0136]])\n"
     ]
    }
   ],
   "source": [
    "# Print results\n",
    "print(\"Result on GPU:\")\n",
    "print(gpu_result)\n",
    "print(\"\\nResult on CPU:\")\n",
    "print(cpu_result)"
   ]
  },
  {
   "cell_type": "code",
   "execution_count": null,
   "id": "40b6709d",
   "metadata": {},
   "outputs": [],
   "source": []
  }
 ],
 "metadata": {
  "kernelspec": {
   "display_name": "Python 3 (ipykernel)",
   "language": "python",
   "name": "python3"
  },
  "language_info": {
   "codemirror_mode": {
    "name": "ipython",
    "version": 3
   },
   "file_extension": ".py",
   "mimetype": "text/x-python",
   "name": "python",
   "nbconvert_exporter": "python",
   "pygments_lexer": "ipython3",
   "version": "3.11.4"
  }
 },
 "nbformat": 4,
 "nbformat_minor": 5
}
