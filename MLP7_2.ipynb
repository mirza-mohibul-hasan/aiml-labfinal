{
 "cells": [
  {
   "cell_type": "code",
   "execution_count": 1,
   "id": "2ba33e5c",
   "metadata": {},
   "outputs": [],
   "source": [
    "import torch"
   ]
  },
  {
   "cell_type": "code",
   "execution_count": 2,
   "id": "d081ff73",
   "metadata": {},
   "outputs": [
    {
     "name": "stdout",
     "output_type": "stream",
     "text": [
      "Using device: cuda\n"
     ]
    }
   ],
   "source": [
    "# Check if GPU is available\n",
    "device = torch.device(\"cuda\" if torch.cuda.is_available() else \"cpu\")\n",
    "print(f\"Using device: {device}\")"
   ]
  },
  {
   "cell_type": "code",
   "execution_count": 3,
   "id": "96ebecee",
   "metadata": {},
   "outputs": [
    {
     "name": "stdout",
     "output_type": "stream",
     "text": [
      "Tensor on CPU:\n",
      "tensor([[0.5608, 0.5423, 0.1808],\n",
      "        [0.7690, 0.7802, 0.6115],\n",
      "        [0.0273, 0.6613, 0.1080]])\n"
     ]
    }
   ],
   "source": [
    "# Create a tensor on CPU\n",
    "cpu_tensor = torch.rand(3, 3)\n",
    "print(\"Tensor on CPU:\")\n",
    "print(cpu_tensor)"
   ]
  },
  {
   "cell_type": "code",
   "execution_count": 4,
   "id": "d5e99989",
   "metadata": {},
   "outputs": [
    {
     "name": "stdout",
     "output_type": "stream",
     "text": [
      "Tensor on GPU:\n",
      "tensor([[0.5608, 0.5423, 0.1808],\n",
      "        [0.7690, 0.7802, 0.6115],\n",
      "        [0.0273, 0.6613, 0.1080]], device='cuda:0')\n"
     ]
    }
   ],
   "source": [
    "# Move the tensor to GPU\n",
    "gpu_tensor = cpu_tensor.to(device)\n",
    "print(\"Tensor on GPU:\")\n",
    "print(gpu_tensor)"
   ]
  },
  {
   "cell_type": "code",
   "execution_count": 5,
   "id": "afbb0774",
   "metadata": {},
   "outputs": [
    {
     "name": "stdout",
     "output_type": "stream",
     "text": [
      "Result Tensor on GPU:\n",
      "tensor([[2.5608, 2.5423, 2.1808],\n",
      "        [2.7690, 2.7802, 2.6115],\n",
      "        [2.0273, 2.6613, 2.1080]], device='cuda:0')\n"
     ]
    }
   ],
   "source": [
    "# Perform some operations on GPU\n",
    "result_tensor = gpu_tensor + 2\n",
    "print(\"Result Tensor on GPU:\")\n",
    "print(result_tensor)"
   ]
  },
  {
   "cell_type": "code",
   "execution_count": 6,
   "id": "0a40c40b",
   "metadata": {},
   "outputs": [
    {
     "name": "stdout",
     "output_type": "stream",
     "text": [
      "GPU Memory Allocated: 0.00 GB\n",
      "GPU Memory Cached: 0.00 GB\n"
     ]
    }
   ],
   "source": [
    "# Check GPU utilization\n",
    "gpu_memory_allocated = torch.cuda.memory_allocated(device)\n",
    "gpu_memory_cached = torch.cuda.memory_reserved(device)\n",
    "print(f\"GPU Memory Allocated: {gpu_memory_allocated / 1024**3:.2f} GB\")\n",
    "print(f\"GPU Memory Cached: {gpu_memory_cached / 1024**3:.2f} GB\")"
   ]
  },
  {
   "cell_type": "code",
   "execution_count": null,
   "id": "48c0cebc",
   "metadata": {},
   "outputs": [],
   "source": []
  }
 ],
 "metadata": {
  "kernelspec": {
   "display_name": "Python 3 (ipykernel)",
   "language": "python",
   "name": "python3"
  },
  "language_info": {
   "codemirror_mode": {
    "name": "ipython",
    "version": 3
   },
   "file_extension": ".py",
   "mimetype": "text/x-python",
   "name": "python",
   "nbconvert_exporter": "python",
   "pygments_lexer": "ipython3",
   "version": "3.11.4"
  }
 },
 "nbformat": 4,
 "nbformat_minor": 5
}
