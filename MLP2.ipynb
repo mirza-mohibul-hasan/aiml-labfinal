{
 "cells": [
  {
   "cell_type": "code",
   "execution_count": 1,
   "id": "71b7508e",
   "metadata": {},
   "outputs": [],
   "source": [
    "import pandas as pd\n",
    "import numpy as np\n",
    "import random"
   ]
  },
  {
   "cell_type": "code",
   "execution_count": 2,
   "id": "77ac0a33",
   "metadata": {},
   "outputs": [
    {
     "name": "stdout",
     "output_type": "stream",
     "text": [
      "     Outlook Temperature Humidity  Windy PlayTennis\n",
      "0      Sunny         Hot     High  False         No\n",
      "1      Sunny         Hot     High   True         No\n",
      "2   Overcast         Hot     High  False        Yes\n",
      "3      Rainy        Mild     High  False        Yes\n",
      "4      Rainy        Cool   Normal  False        Yes\n",
      "5      Rainy        Cool   Normal   True         No\n",
      "6   Overcast        Cool   Normal   True        Yes\n",
      "7      Sunny        Mild     High  False         No\n",
      "8      Sunny        Cool   Normal  False        Yes\n",
      "9      Rainy        Mild   Normal  False        Yes\n",
      "10     Sunny        Mild   Normal   True        Yes\n",
      "11  Overcast        Mild     High   True        Yes\n",
      "12  Overcast         Hot   Normal  False        Yes\n",
      "13     Rainy        Mild     High   True         No\n"
     ]
    }
   ],
   "source": [
    "# Load the dataset\n",
    "df = pd.read_csv(\"datasets/tennisdata.csv\")\n",
    "print(df)"
   ]
  },
  {
   "cell_type": "code",
   "execution_count": 3,
   "id": "37dc07c9",
   "metadata": {},
   "outputs": [],
   "source": [
    "def entropy(target_col):\n",
    "    elements, counts = np.unique(target_col, return_counts=True)\n",
    "    entropy_val = -np.sum([(counts[i] / np.sum(counts)) * np.log2(counts[i] / np.sum(counts)) for i in range(len(elements))])\n",
    "    return entropy_val"
   ]
  },
  {
   "cell_type": "code",
   "execution_count": 4,
   "id": "aa2b90c1",
   "metadata": {},
   "outputs": [],
   "source": [
    "def information_gain(data, split_attribute_name, target_name):\n",
    "    total_entropy = entropy(data[target_name])\n",
    "    vals, counts = np.unique(data[split_attribute_name], return_counts=True)\n",
    "    weighted_entropy = np.sum([(counts[i] / np.sum(counts)) * entropy(data.where(data[split_attribute_name] == vals[i]).dropna()[target_name]) for i in range(len(vals))])\n",
    "    information_gain_val = total_entropy - weighted_entropy\n",
    "    return information_gain_val"
   ]
  },
  {
   "cell_type": "code",
   "execution_count": 5,
   "id": "18aafa8d",
   "metadata": {},
   "outputs": [],
   "source": [
    "def id3_algorithm(data, original_data, features, target_attribute_name, parent_node_class):\n",
    "    # Base cases\n",
    "    if len(np.unique(data[target_attribute_name])) <= 1:\n",
    "        return np.unique(data[target_attribute_name])[0]\n",
    "    elif len(data) == 0:\n",
    "        return np.unique(original_data[target_attribute_name])[np.argmax(np.unique(original_data[target_attribute_name], return_counts=True)[1])]\n",
    "    elif len(features) == 0:\n",
    "        return parent_node_class\n",
    "    else:\n",
    "        parent_node_class = np.unique(data[target_attribute_name])[np.argmax(np.unique(data[target_attribute_name], return_counts=True)[1])]\n",
    "        item_values = [information_gain(data, feature, target_attribute_name) for feature in features]\n",
    "        best_feature_index = np.argmax(item_values)\n",
    "        best_feature = features[best_feature_index]\n",
    "        tree = {best_feature: {}}\n",
    "        features = [i for i in features if i != best_feature]\n",
    "        for value in np.unique(data[best_feature]):\n",
    "            value = value\n",
    "            sub_data = data.where(data[best_feature] == value).dropna()\n",
    "            subtree = id3_algorithm(sub_data, data, features, target_attribute_name, parent_node_class)\n",
    "            tree[best_feature][value] = subtree\n",
    "        return tree"
   ]
  },
  {
   "cell_type": "code",
   "execution_count": 6,
   "id": "f2f32812",
   "metadata": {},
   "outputs": [],
   "source": [
    "def predict(query, tree, default=1):\n",
    "    for key in list(query.keys()):\n",
    "        if key in list(tree.keys()):\n",
    "            try:\n",
    "                result = tree[key][query[key]]\n",
    "            except:\n",
    "                return default\n",
    "            result = tree[key][query[key]]\n",
    "            if isinstance(result, dict):\n",
    "                return predict(query, result)\n",
    "            else:\n",
    "                return result"
   ]
  },
  {
   "cell_type": "code",
   "execution_count": 7,
   "id": "b3fc9221",
   "metadata": {},
   "outputs": [],
   "source": [
    "def train_test_split(df, test_size):\n",
    "    if isinstance(test_size, float):\n",
    "        test_size = round(test_size * len(df))\n",
    "    indices = df.index.tolist()\n",
    "    test_indices = random.sample(population=indices, k=test_size)\n",
    "    test_df = df.loc[test_indices]\n",
    "    train_df = df.drop(test_indices)\n",
    "    return train_df, test_df"
   ]
  },
  {
   "cell_type": "code",
   "execution_count": 8,
   "id": "9bfc1b2a",
   "metadata": {},
   "outputs": [],
   "source": [
    "# Use the provided dataset\n",
    "train_data, test_data = train_test_split(df, test_size=0.2)"
   ]
  },
  {
   "cell_type": "code",
   "execution_count": 9,
   "id": "b293929e",
   "metadata": {},
   "outputs": [],
   "source": [
    "def fit(df, target_attribute_name, features):\n",
    "    return id3_algorithm(df, df, features, target_attribute_name, None)"
   ]
  },
  {
   "cell_type": "code",
   "execution_count": 10,
   "id": "dd05009c",
   "metadata": {},
   "outputs": [],
   "source": [
    "def get_accuracy(df, tree):\n",
    "    df[\"classification\"] = df.apply(predict, axis=1, args=(tree, 'Yes'))\n",
    "    df[\"classification_correct\"] = df[\"classification\"] == df[\"PlayTennis\"]\n",
    "    accuracy = df[\"classification_correct\"].mean()\n",
    "    return accuracy"
   ]
  },
  {
   "cell_type": "code",
   "execution_count": 11,
   "id": "115c9cdf",
   "metadata": {},
   "outputs": [
    {
     "name": "stdout",
     "output_type": "stream",
     "text": [
      "Decision Tree:\n",
      "{'Outlook': {'Overcast': 'Yes', 'Rainy': {'Windy': {False: 'Yes', True: 'No'}}, 'Sunny': {'Temperature': {'Cool': 'Yes', 'Hot': 'No', 'Mild': 'Yes'}}}}\n",
      "Accuracy: 0.6666666666666666\n"
     ]
    }
   ],
   "source": [
    "# Adjust target_attribute_name and features based on your dataset\n",
    "tree = fit(train_data, 'PlayTennis', ['Outlook', 'Temperature', 'Humidity', 'Windy'])\n",
    "accuracy = get_accuracy(test_data, tree)\n",
    "print(\"Decision Tree:\")\n",
    "print(tree)\n",
    "print(\"Accuracy:\", accuracy)"
   ]
  },
  {
   "cell_type": "code",
   "execution_count": null,
   "id": "5df0c9ac",
   "metadata": {},
   "outputs": [],
   "source": []
  }
 ],
 "metadata": {
  "kernelspec": {
   "display_name": "Python 3 (ipykernel)",
   "language": "python",
   "name": "python3"
  },
  "language_info": {
   "codemirror_mode": {
    "name": "ipython",
    "version": 3
   },
   "file_extension": ".py",
   "mimetype": "text/x-python",
   "name": "python",
   "nbconvert_exporter": "python",
   "pygments_lexer": "ipython3",
   "version": "3.11.4"
  }
 },
 "nbformat": 4,
 "nbformat_minor": 5
}
