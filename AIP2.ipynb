{
 "cells": [
  {
   "cell_type": "code",
   "execution_count": 1,
   "id": "370c8fbc",
   "metadata": {},
   "outputs": [],
   "source": [
    "#  Write a program in python to implement water jug problem using DFS algorithm"
   ]
  },
  {
   "cell_type": "code",
   "execution_count": 4,
   "id": "0c4d607a",
   "metadata": {},
   "outputs": [],
   "source": [
    "def generateNextStates(state, capacity_jug1, capacity_jug2):\n",
    "    next_states = []\n",
    "\n",
    "    # Fill Jug 1\n",
    "    next_states.append((capacity_jug1, state[1]))\n",
    "\n",
    "    # Fill Jug 2\n",
    "    next_states.append((state[0], capacity_jug2))\n",
    "\n",
    "    # Empty Jug 1\n",
    "    next_states.append((0, state[1]))\n",
    "\n",
    "    # Empty Jug 2\n",
    "    next_states.append((state[0], 0))\n",
    "\n",
    "    # Pour water from Jug 1 to Jug 2\n",
    "    pour_amount = min(state[0], capacity_jug2 - state[1])\n",
    "    next_states.append((state[0] - pour_amount, state[1] + pour_amount))\n",
    "\n",
    "    # Pour water from Jug 2 to Jug 1\n",
    "    pour_amount = min(state[1], capacity_jug1 - state[0])\n",
    "    next_states.append((state[0] + pour_amount, state[1] - pour_amount))\n",
    "\n",
    "    return next_states"
   ]
  },
  {
   "cell_type": "code",
   "execution_count": 5,
   "id": "620b052b",
   "metadata": {},
   "outputs": [],
   "source": [
    "def solveWaterJugProblem(capacity_jug1, capacity_jug2, desired_quantity):\n",
    "    stack = []\n",
    "    stack.append((0, 0))  # Initial state: both jugs empty\n",
    "\n",
    "    while stack:\n",
    "        current_state = stack.pop()\n",
    "\n",
    "        if current_state[0] == desired_quantity or current_state[1] == desired_quantity:\n",
    "            return current_state\n",
    "\n",
    "        next_states = generateNextStates(current_state, capacity_jug1, capacity_jug2)\n",
    "        stack.extend(next_states)\n",
    "\n",
    "    return \"No solution found\""
   ]
  },
  {
   "cell_type": "code",
   "execution_count": 6,
   "id": "cf52891b",
   "metadata": {},
   "outputs": [
    {
     "ename": "MemoryError",
     "evalue": "",
     "output_type": "error",
     "traceback": [
      "\u001b[1;31m---------------------------------------------------------------------------\u001b[0m",
      "\u001b[1;31mMemoryError\u001b[0m                               Traceback (most recent call last)",
      "Cell \u001b[1;32mIn[6], line 1\u001b[0m\n\u001b[1;32m----> 1\u001b[0m \u001b[43msolveWaterJugProblem\u001b[49m\u001b[43m(\u001b[49m\u001b[38;5;241;43m4\u001b[39;49m\u001b[43m,\u001b[49m\u001b[43m \u001b[49m\u001b[38;5;241;43m3\u001b[39;49m\u001b[43m,\u001b[49m\u001b[43m \u001b[49m\u001b[38;5;241;43m2\u001b[39;49m\u001b[43m)\u001b[49m\n",
      "Cell \u001b[1;32mIn[5], line 12\u001b[0m, in \u001b[0;36msolveWaterJugProblem\u001b[1;34m(capacity_jug1, capacity_jug2, desired_quantity)\u001b[0m\n\u001b[0;32m      9\u001b[0m         \u001b[38;5;28;01mreturn\u001b[39;00m current_state\n\u001b[0;32m     11\u001b[0m     next_states \u001b[38;5;241m=\u001b[39m generateNextStates(current_state, capacity_jug1, capacity_jug2)\n\u001b[1;32m---> 12\u001b[0m     \u001b[43mstack\u001b[49m\u001b[38;5;241;43m.\u001b[39;49m\u001b[43mextend\u001b[49m\u001b[43m(\u001b[49m\u001b[43mnext_states\u001b[49m\u001b[43m)\u001b[49m\n\u001b[0;32m     14\u001b[0m \u001b[38;5;28;01mreturn\u001b[39;00m \u001b[38;5;124m\"\u001b[39m\u001b[38;5;124mNo solution found\u001b[39m\u001b[38;5;124m\"\u001b[39m\n",
      "\u001b[1;31mMemoryError\u001b[0m: "
     ]
    }
   ],
   "source": [
    "solveWaterJugProblem(4, 3, 2)"
   ]
  },
  {
   "cell_type": "code",
   "execution_count": null,
   "id": "99969be9",
   "metadata": {},
   "outputs": [],
   "source": []
  }
 ],
 "metadata": {
  "kernelspec": {
   "display_name": "Python 3 (ipykernel)",
   "language": "python",
   "name": "python3"
  },
  "language_info": {
   "codemirror_mode": {
    "name": "ipython",
    "version": 3
   },
   "file_extension": ".py",
   "mimetype": "text/x-python",
   "name": "python",
   "nbconvert_exporter": "python",
   "pygments_lexer": "ipython3",
   "version": "3.11.4"
  }
 },
 "nbformat": 4,
 "nbformat_minor": 5
}
