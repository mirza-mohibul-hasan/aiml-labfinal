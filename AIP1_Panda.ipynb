{
 "cells": [
  {
   "cell_type": "code",
   "execution_count": 1,
   "id": "f9171f3b",
   "metadata": {},
   "outputs": [],
   "source": [
    "import pandas as pd"
   ]
  },
  {
   "cell_type": "code",
   "execution_count": 2,
   "id": "3d83eaea",
   "metadata": {},
   "outputs": [],
   "source": [
    "df=pd.read_csv(\"1.csv\")\n",
    "dataset = df.values.tolist()"
   ]
  },
  {
   "cell_type": "code",
   "execution_count": 3,
   "id": "254d5e29",
   "metadata": {},
   "outputs": [],
   "source": [
    "rows=len(dataset)\n",
    "columns=len(dataset[0])-1"
   ]
  },
  {
   "cell_type": "code",
   "execution_count": 4,
   "id": "755f073d",
   "metadata": {},
   "outputs": [
    {
     "name": "stdout",
     "output_type": "stream",
     "text": [
      "\n",
      "The initial value of hypothesis: \n",
      "['phi', 'phi', 'phi', 'phi', 'phi', 'phi']\n"
     ]
    }
   ],
   "source": [
    "print(\"\\nThe initial value of hypothesis: \") # Initialize the hypothesis \n",
    "hypothesis = ['phi'] * columns\n",
    "print(hypothesis)"
   ]
  },
  {
   "cell_type": "code",
   "execution_count": 5,
   "id": "49fcf7de",
   "metadata": {},
   "outputs": [],
   "source": [
    "# training with the first instance \n",
    "for i in range(0, columns):\n",
    "    hypothesis[i] = dataset[0][i]"
   ]
  },
  {
   "cell_type": "code",
   "execution_count": 6,
   "id": "47ccbf66",
   "metadata": {},
   "outputs": [
    {
     "name": "stdout",
     "output_type": "stream",
     "text": [
      "\n",
      "After 0 iteration, the hypothesis is : ['sunny', 'warm', 'high', 'strong', 'warm', 'same']\n",
      "\n",
      "After 1 iteration, the hypothesis is : ['sunny', 'warm', 'high', 'strong', 'warm', 'same']\n",
      "\n",
      "After 2 iteration, the hypothesis is : ['sunny', 'warm', 'high', 'strong', 'warm', 'same']\n",
      "\n",
      "Hypothesis after training :\n",
      "['sunny', 'warm', 'high', 'strong', 'warm', 'same']\n"
     ]
    }
   ],
   "source": [
    "#training the dataset\n",
    "for i in range(0, rows):\n",
    "    if dataset[i][columns] == 'Yes':\n",
    "        for j in range(0, columns):\n",
    "            if dataset[i][j]!=hypothesis[j]:\n",
    "                hypothesis[j]='?'\n",
    "            else :\n",
    "                hypothesis[j]= dataset[i][j]\n",
    "    print(\"\\nAfter {0} iteration, the hypothesis is :\".format(i), hypothesis)\n",
    "print(\"\\nHypothesis after training :\")\n",
    "print (hypothesis)"
   ]
  }
 ],
 "metadata": {
  "kernelspec": {
   "display_name": "Python 3 (ipykernel)",
   "language": "python",
   "name": "python3"
  },
  "language_info": {
   "codemirror_mode": {
    "name": "ipython",
    "version": 3
   },
   "file_extension": ".py",
   "mimetype": "text/x-python",
   "name": "python",
   "nbconvert_exporter": "python",
   "pygments_lexer": "ipython3",
   "version": "3.11.4"
  }
 },
 "nbformat": 4,
 "nbformat_minor": 5
}
