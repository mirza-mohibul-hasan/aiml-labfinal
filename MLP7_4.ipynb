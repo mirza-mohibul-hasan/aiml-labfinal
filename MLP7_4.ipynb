{
 "cells": [
  {
   "cell_type": "code",
   "execution_count": 1,
   "id": "d1946b1b",
   "metadata": {},
   "outputs": [],
   "source": [
    "import torch\n",
    "import time"
   ]
  },
  {
   "cell_type": "code",
   "execution_count": 2,
   "id": "52a15141",
   "metadata": {},
   "outputs": [],
   "source": [
    "# Define matrix size\n",
    "matrix_size = 1000"
   ]
  },
  {
   "cell_type": "code",
   "execution_count": 3,
   "id": "decc365b",
   "metadata": {},
   "outputs": [],
   "source": [
    "# Create random matrices on CPU\n",
    "cpu_matrix1 = torch.randn(matrix_size, matrix_size)\n",
    "cpu_matrix2 = torch.randn(matrix_size, matrix_size)"
   ]
  },
  {
   "cell_type": "code",
   "execution_count": 4,
   "id": "04c7a368",
   "metadata": {},
   "outputs": [
    {
     "name": "stdout",
     "output_type": "stream",
     "text": [
      "CPU Execution Time: 0.0780 seconds\n"
     ]
    }
   ],
   "source": [
    "# Record CPU execution time\n",
    "start_time_cpu = time.time()\n",
    "\n",
    "# Perform matrix multiplication on CPU\n",
    "cpu_result = torch.mm(cpu_matrix1, cpu_matrix2)\n",
    "\n",
    "# Print CPU execution time\n",
    "cpu_execution_time = time.time() - start_time_cpu\n",
    "print(f\"CPU Execution Time: {cpu_execution_time:.4f} seconds\")"
   ]
  },
  {
   "cell_type": "code",
   "execution_count": 5,
   "id": "a45873bf",
   "metadata": {},
   "outputs": [
    {
     "name": "stdout",
     "output_type": "stream",
     "text": [
      "CUDA is available! Using GPU.\n",
      "GPU Execution Time: 0.7810 seconds\n"
     ]
    }
   ],
   "source": [
    "# Check if CUDA (GPU support) is available\n",
    "if torch.cuda.is_available():\n",
    "    device = torch.device(\"cuda\")\n",
    "    print(\"CUDA is available! Using GPU.\")\n",
    "    \n",
    "    # Create random matrices on GPU\n",
    "    gpu_matrix1 = torch.randn(matrix_size, matrix_size).to(device)\n",
    "    gpu_matrix2 = torch.randn(matrix_size, matrix_size).to(device)\n",
    "\n",
    "    # Record GPU execution time\n",
    "    start_time_gpu = time.time()\n",
    "\n",
    "    # Perform matrix multiplication on GPU\n",
    "    gpu_result = torch.mm(gpu_matrix1, gpu_matrix2)\n",
    "\n",
    "    # Print GPU execution time\n",
    "    gpu_execution_time = time.time() - start_time_gpu\n",
    "    print(f\"GPU Execution Time: {gpu_execution_time:.4f} seconds\")\n",
    "else:\n",
    "    print(\"CUDA is not available! GPU execution not possible.\")"
   ]
  },
  {
   "cell_type": "code",
   "execution_count": null,
   "id": "7dce8fdc",
   "metadata": {},
   "outputs": [],
   "source": []
  }
 ],
 "metadata": {
  "kernelspec": {
   "display_name": "Python 3 (ipykernel)",
   "language": "python",
   "name": "python3"
  },
  "language_info": {
   "codemirror_mode": {
    "name": "ipython",
    "version": 3
   },
   "file_extension": ".py",
   "mimetype": "text/x-python",
   "name": "python",
   "nbconvert_exporter": "python",
   "pygments_lexer": "ipython3",
   "version": "3.11.4"
  }
 },
 "nbformat": 4,
 "nbformat_minor": 5
}
