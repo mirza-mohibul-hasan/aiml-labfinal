{
 "cells": [
  {
   "cell_type": "code",
   "execution_count": 1,
   "id": "fd2d8644",
   "metadata": {},
   "outputs": [],
   "source": [
    "# Implement and demonstrate the FIND-S algorithm for finding the most specific hypothesis based on a given set of training data samples. Read the training data from a .CSV file "
   ]
  },
  {
   "cell_type": "code",
   "execution_count": 2,
   "id": "4ae2fedc",
   "metadata": {},
   "outputs": [],
   "source": [
    "import csv\n",
    "import pandas as pd"
   ]
  },
  {
   "cell_type": "code",
   "execution_count": 3,
   "id": "cdddca57",
   "metadata": {},
   "outputs": [
    {
     "name": "stdout",
     "output_type": "stream",
     "text": [
      "\n",
      " The most general hypothesis :['?','?','?','?','?','?']\n",
      "\n",
      "\n",
      " The most specific hypothesis :['0','0','0','0','0','0']\n",
      "\n"
     ]
    }
   ],
   "source": [
    "print(\"\\n The most general hypothesis :['?','?','?','?','?','?']\\n\")\n",
    "print(\"\\n The most specific hypothesis :['0','0','0','0','0','0']\\n\")"
   ]
  },
  {
   "cell_type": "code",
   "execution_count": 4,
   "id": "9d827634",
   "metadata": {},
   "outputs": [],
   "source": [
    "a = []"
   ]
  },
  {
   "cell_type": "code",
   "execution_count": 5,
   "id": "f487c18e",
   "metadata": {},
   "outputs": [
    {
     "name": "stdout",
     "output_type": "stream",
     "text": [
      "['sky', 'airTemp', 'humidity', 'wind', 'water', 'forecast', 'enjoySport']\n",
      "['sunny', 'warm', 'normal', 'strong', 'warm', 'same', 'yes']\n",
      "['sunny', 'warm', 'high', 'strong', 'warm', 'same', 'yes']\n",
      "['rainy', 'cold', 'high', 'strong', 'warm', 'change', 'no']\n",
      "['sunny', 'warm', 'high', 'strong', 'cool', 'change', 'yes']\n"
     ]
    }
   ],
   "source": [
    "with open('datasets/enjoysport.csv', 'r') as csvFile:\n",
    "    reader = csv.reader(csvFile)\n",
    "    for row in reader:\n",
    "        a.append(row)\n",
    "        print(row)\n",
    "    csvFile.close()\n",
    "# df=pd.read_csv(\"datasets/enjoysport.csv\")\n",
    "# a = df.values.tolist()\n",
    "num_attributes = len(a[0]) - 1"
   ]
  },
  {
   "cell_type": "code",
   "execution_count": 6,
   "id": "31fe68fd",
   "metadata": {},
   "outputs": [
    {
     "data": {
      "text/plain": [
       "6"
      ]
     },
     "execution_count": 6,
     "metadata": {},
     "output_type": "execute_result"
    }
   ],
   "source": [
    "num_attributes"
   ]
  },
  {
   "cell_type": "code",
   "execution_count": 7,
   "id": "476c6f0f",
   "metadata": {},
   "outputs": [
    {
     "data": {
      "text/plain": [
       "[['sky', 'airTemp', 'humidity', 'wind', 'water', 'forecast', 'enjoySport'],\n",
       " ['sunny', 'warm', 'normal', 'strong', 'warm', 'same', 'yes'],\n",
       " ['sunny', 'warm', 'high', 'strong', 'warm', 'same', 'yes'],\n",
       " ['rainy', 'cold', 'high', 'strong', 'warm', 'change', 'no'],\n",
       " ['sunny', 'warm', 'high', 'strong', 'cool', 'change', 'yes']]"
      ]
     },
     "execution_count": 7,
     "metadata": {},
     "output_type": "execute_result"
    }
   ],
   "source": [
    "a"
   ]
  },
  {
   "cell_type": "code",
   "execution_count": 8,
   "id": "ad5e6cb7",
   "metadata": {
    "scrolled": true
   },
   "outputs": [
    {
     "name": "stdout",
     "output_type": "stream",
     "text": [
      "Initial Value of the hypothesis: \n",
      "['0', '0', '0', '0', '0', '0']\n"
     ]
    }
   ],
   "source": [
    "hypothesis = ['0'] * num_attributes\n",
    "print('Initial Value of the hypothesis: ')\n",
    "print(hypothesis)"
   ]
  },
  {
   "cell_type": "code",
   "execution_count": 9,
   "id": "1bf4732b",
   "metadata": {
    "scrolled": true
   },
   "outputs": [],
   "source": [
    "for j in range(0, num_attributes):\n",
    "    hypothesis[j] = a[1][j]"
   ]
  },
  {
   "cell_type": "code",
   "execution_count": 10,
   "id": "834ccc76",
   "metadata": {},
   "outputs": [
    {
     "data": {
      "text/plain": [
       "['sunny', 'warm', 'normal', 'strong', 'warm', 'same']"
      ]
     },
     "execution_count": 10,
     "metadata": {},
     "output_type": "execute_result"
    }
   ],
   "source": [
    "hypothesis"
   ]
  },
  {
   "cell_type": "code",
   "execution_count": 11,
   "id": "9e7e6456",
   "metadata": {},
   "outputs": [
    {
     "name": "stdout",
     "output_type": "stream",
     "text": [
      "\n",
      "Find S: Finding Maximally specific hypothesis\n",
      "\n",
      "For training example no :1 the hypothesis is ['sunny', 'warm', 'normal', 'strong', 'warm', 'same']\n",
      "For training example no :2 the hypothesis is ['sunny', 'warm', '?', 'strong', 'warm', 'same']\n",
      "For training example no :3 the hypothesis is ['sunny', 'warm', '?', 'strong', 'warm', 'same']\n",
      "For training example no :4 the hypothesis is ['sunny', 'warm', '?', 'strong', '?', '?']\n"
     ]
    }
   ],
   "source": [
    "print('\\nFind S: Finding Maximally specific hypothesis\\n')\n",
    "for i in range(1, len(a)):\n",
    "    if a[i][num_attributes] == 'yes':\n",
    "        for j in range(num_attributes):\n",
    "            if a[i][j] != hypothesis[j]:\n",
    "                hypothesis[j] = '?'\n",
    "            else:\n",
    "                hypothesis[j] = a[i][j]\n",
    "    print(\"For training example no :{0} the hypothesis is\".format(\n",
    "        i), hypothesis)"
   ]
  },
  {
   "cell_type": "code",
   "execution_count": 12,
   "id": "cee20b8f",
   "metadata": {},
   "outputs": [
    {
     "name": "stdout",
     "output_type": "stream",
     "text": [
      "\n",
      " The Maximally specific hypothesis for the training instances is: \n",
      " ['sunny', 'warm', '?', 'strong', '?', '?']\n"
     ]
    }
   ],
   "source": [
    "print(\"\\n The Maximally specific hypothesis for the training instances is: \\n\",hypothesis )"
   ]
  }
 ],
 "metadata": {
  "kernelspec": {
   "display_name": "Python 3 (ipykernel)",
   "language": "python",
   "name": "python3"
  },
  "language_info": {
   "codemirror_mode": {
    "name": "ipython",
    "version": 3
   },
   "file_extension": ".py",
   "mimetype": "text/x-python",
   "name": "python",
   "nbconvert_exporter": "python",
   "pygments_lexer": "ipython3",
   "version": "3.11.4"
  }
 },
 "nbformat": 4,
 "nbformat_minor": 5
}
